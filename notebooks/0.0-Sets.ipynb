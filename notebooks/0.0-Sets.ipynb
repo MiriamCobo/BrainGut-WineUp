{
 "cells": [
  {
   "cell_type": "markdown",
   "metadata": {},
   "source": [
    "# 0.0 Divide your data into distributed train, val and test sets\n",
    "\n",
    "Our file todo.txt contains all the images and its corresponding classes. Now we want to split our images into train, val and test files, so that the classes are well distributed (e.g. if the dataset is highly imbalanced the images are not randomly separated)."
   ]
  },
  {
   "cell_type": "code",
   "execution_count": 2,
   "metadata": {},
   "outputs": [],
   "source": [
    "import os\n",
    "\n",
    "import matplotlib.pylab as plt\n",
    "import numpy as np\n",
    "import pandas as pd\n",
    "from tqdm import tqdm\n",
    "\n",
    "import imgclas\n",
    "from imgclas import paths, config\n",
    "from imgclas.data_utils import load_image, load_data_splits, augment, load_class_names\n",
    "\n",
    "from sklearn.model_selection import train_test_split\n",
    "\n",
    "CONF = config.get_conf_dict()\n",
    "\n",
    "# Customize your image folder if needed\n",
    "# CONF['general']['images_directory'] = '/media/ignacio/Datos/datasets/semillas/datasets'  # absolute path to image_folder\n",
    "\n",
    "# splits_dir = paths.get_splits_dir()\n",
    "splits_dir = '/srv/images_classes/copa Char'\n",
    "\n",
    "# Load the data\n",
    "data = pd.read_csv(splits_dir+'/todo_FondoBlanco.txt', sep=\" \", header=None, names=['image', 'clase'])"
   ]
  },
  {
   "cell_type": "code",
   "execution_count": 3,
   "metadata": {},
   "outputs": [
    {
     "data": {
      "text/html": [
       "<div>\n",
       "<style scoped>\n",
       "    .dataframe tbody tr th:only-of-type {\n",
       "        vertical-align: middle;\n",
       "    }\n",
       "\n",
       "    .dataframe tbody tr th {\n",
       "        vertical-align: top;\n",
       "    }\n",
       "\n",
       "    .dataframe thead th {\n",
       "        text-align: right;\n",
       "    }\n",
       "</style>\n",
       "<table border=\"1\" class=\"dataframe\">\n",
       "  <thead>\n",
       "    <tr style=\"text-align: right;\">\n",
       "      <th></th>\n",
       "      <th>image</th>\n",
       "      <th>clase</th>\n",
       "    </tr>\n",
       "  </thead>\n",
       "  <tbody>\n",
       "    <tr>\n",
       "      <th>0</th>\n",
       "      <td>Est_Mad_J_Char_125_nd_f_bl_sin_al_inf.jpg</td>\n",
       "      <td>2</td>\n",
       "    </tr>\n",
       "    <tr>\n",
       "      <th>1</th>\n",
       "      <td>Est_Mad_J_Char_225_nd_f_bl_con_al_cen.jpg</td>\n",
       "      <td>4</td>\n",
       "    </tr>\n",
       "    <tr>\n",
       "      <th>2</th>\n",
       "      <td>Est_Mad_J_Char_225_nd_f_bl_con_ce_inf.jpg</td>\n",
       "      <td>4</td>\n",
       "    </tr>\n",
       "    <tr>\n",
       "      <th>3</th>\n",
       "      <td>Est_Mad_J_Char_200_nd_nf_bl_con_ce_cen.jpg</td>\n",
       "      <td>3</td>\n",
       "    </tr>\n",
       "    <tr>\n",
       "      <th>4</th>\n",
       "      <td>Est_Mad_J_Char_125_nd_nf_bl_con_me_inf.jpg</td>\n",
       "      <td>2</td>\n",
       "    </tr>\n",
       "    <tr>\n",
       "      <th>...</th>\n",
       "      <td>...</td>\n",
       "      <td>...</td>\n",
       "    </tr>\n",
       "    <tr>\n",
       "      <th>379</th>\n",
       "      <td>Est_Mad_J_Char_100_nd_nf_bl_sin_ce_sup1.jpg</td>\n",
       "      <td>1</td>\n",
       "    </tr>\n",
       "    <tr>\n",
       "      <th>380</th>\n",
       "      <td>Est_Mad_J_Char_200_nd_f_bl_con_me_sup.jpg</td>\n",
       "      <td>3</td>\n",
       "    </tr>\n",
       "    <tr>\n",
       "      <th>381</th>\n",
       "      <td>Est_Mad_J_Char_225_nd_f_bl_con_al_sup1.jpg</td>\n",
       "      <td>4</td>\n",
       "    </tr>\n",
       "    <tr>\n",
       "      <th>382</th>\n",
       "      <td>Est_Mad_J_Char_200_nd_nf_bl_con_me_sup1.jpg</td>\n",
       "      <td>3</td>\n",
       "    </tr>\n",
       "    <tr>\n",
       "      <th>383</th>\n",
       "      <td>Est_Mad_J_Char_150_nd_nf_bl_sin_me_sup1.jpg</td>\n",
       "      <td>2</td>\n",
       "    </tr>\n",
       "  </tbody>\n",
       "</table>\n",
       "<p>384 rows × 2 columns</p>\n",
       "</div>"
      ],
      "text/plain": [
       "                                           image  clase\n",
       "0      Est_Mad_J_Char_125_nd_f_bl_sin_al_inf.jpg      2\n",
       "1      Est_Mad_J_Char_225_nd_f_bl_con_al_cen.jpg      4\n",
       "2      Est_Mad_J_Char_225_nd_f_bl_con_ce_inf.jpg      4\n",
       "3     Est_Mad_J_Char_200_nd_nf_bl_con_ce_cen.jpg      3\n",
       "4     Est_Mad_J_Char_125_nd_nf_bl_con_me_inf.jpg      2\n",
       "..                                           ...    ...\n",
       "379  Est_Mad_J_Char_100_nd_nf_bl_sin_ce_sup1.jpg      1\n",
       "380    Est_Mad_J_Char_200_nd_f_bl_con_me_sup.jpg      3\n",
       "381   Est_Mad_J_Char_225_nd_f_bl_con_al_sup1.jpg      4\n",
       "382  Est_Mad_J_Char_200_nd_nf_bl_con_me_sup1.jpg      3\n",
       "383  Est_Mad_J_Char_150_nd_nf_bl_sin_me_sup1.jpg      2\n",
       "\n",
       "[384 rows x 2 columns]"
      ]
     },
     "execution_count": 3,
     "metadata": {},
     "output_type": "execute_result"
    }
   ],
   "source": [
    "data"
   ]
  },
  {
   "cell_type": "code",
   "execution_count": 4,
   "metadata": {},
   "outputs": [
    {
     "name": "stdout",
     "output_type": "stream",
     "text": [
      "Counter({2: 96, 3: 96, 1: 96, 4: 48, 0: 48})\n"
     ]
    }
   ],
   "source": [
    "# https://machisnelearningmastery.com/train-test-split-for-evaluating-machine-learning-algorithms/\n",
    "from collections import Counter\n",
    "print(Counter(data.clase))"
   ]
  },
  {
   "cell_type": "code",
   "execution_count": 5,
   "metadata": {},
   "outputs": [
    {
     "name": "stdout",
     "output_type": "stream",
     "text": [
      "Counter({1: 67, 2: 67, 3: 67, 0: 34, 4: 33})\n",
      "Counter({1: 29, 3: 29, 2: 29, 4: 15, 0: 14})\n"
     ]
    }
   ],
   "source": [
    "# split into train test sets\n",
    "X_train, X_2, y_train, y_2 = train_test_split(data.image, data.clase, test_size=0.30, random_state=1, stratify=data.clase)\n",
    "print(Counter(y_train))\n",
    "print(Counter(y_2))"
   ]
  },
  {
   "cell_type": "code",
   "execution_count": 6,
   "metadata": {},
   "outputs": [
    {
     "name": "stdout",
     "output_type": "stream",
     "text": [
      "Counter({1: 19, 3: 19, 2: 19, 0: 10, 4: 10})\n",
      "Counter({3: 10, 1: 10, 2: 10, 4: 5, 0: 4})\n"
     ]
    }
   ],
   "source": [
    "X_test, X_val, y_test, y_val = train_test_split(X_2, y_2, test_size=0.33, random_state=1, stratify=y_2)\n",
    "print(Counter(y_test))\n",
    "print(Counter(y_val))"
   ]
  },
  {
   "cell_type": "code",
   "execution_count": 7,
   "metadata": {},
   "outputs": [],
   "source": [
    "train=pd.DataFrame(data={'image': X_train, 'clase': y_train})\n",
    "train.to_csv(r'/srv/images_classes/copa Char/Fondo blanco/train.txt', sep=' ', index=None, header=None, mode='a')"
   ]
  },
  {
   "cell_type": "code",
   "execution_count": 8,
   "metadata": {},
   "outputs": [],
   "source": [
    "val=pd.DataFrame(data={'image': X_val, 'clase': y_val})\n",
    "val.to_csv(r'/srv/images_classes/copa Char/Fondo blanco/val.txt', sep=' ', index=None, header=None, mode='a')"
   ]
  },
  {
   "cell_type": "code",
   "execution_count": 9,
   "metadata": {},
   "outputs": [],
   "source": [
    "test=pd.DataFrame(data={'image': X_test, 'clase': y_test})\n",
    "test.to_csv(r'/srv/images_classes/copa Char/Fondo blanco/test.txt', sep=' ', index=None, header=None, mode='a')"
   ]
  },
  {
   "cell_type": "code",
   "execution_count": null,
   "metadata": {},
   "outputs": [],
   "source": []
  }
 ],
 "metadata": {
  "kernelspec": {
   "display_name": "Python 3",
   "language": "python",
   "name": "python3"
  },
  "language_info": {
   "codemirror_mode": {
    "name": "ipython",
    "version": 3
   },
   "file_extension": ".py",
   "mimetype": "text/x-python",
   "name": "python",
   "nbconvert_exporter": "python",
   "pygments_lexer": "ipython3",
   "version": "3.6.8"
  }
 },
 "nbformat": 4,
 "nbformat_minor": 4
}
