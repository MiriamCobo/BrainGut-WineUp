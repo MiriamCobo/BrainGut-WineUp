{
 "cells": [
  {
   "cell_type": "markdown",
   "metadata": {},
   "source": [
    "# 0.0 Divide your data into distributed train, val and test sets\n",
    "\n",
    "Select the file *.txt that contains all the images and its corresponding classes. Now we want to split our images into train, val and test files, so that the classes are well distributed (e.g. if the dataset is highly imbalanced the images are not randomly separated)."
   ]
  },
  {
   "cell_type": "code",
   "execution_count": 1,
   "metadata": {},
   "outputs": [],
   "source": [
    "import os\n",
    "\n",
    "import matplotlib.pylab as plt\n",
    "import numpy as np\n",
    "import pandas as pd\n",
    "from tqdm import tqdm\n",
    "\n",
    "import imgclas\n",
    "from imgclas import paths, config\n",
    "\n",
    "from sklearn.model_selection import train_test_split\n",
    "\n",
    "CONF = config.get_conf_dict()\n",
    "\n",
    "# Customize your image folder if needed\n",
    "# CONF['general']['images_directory'] = '/media/ignacio/Datos/datasets/semillas/datasets'  # absolute path to image_folder\n",
    "\n",
    "# splits_dir = paths.get_splits_dir()\n",
    "splits_dir = '/srv/images_classes/Regression/Madrid'\n",
    "\n",
    "# Load the data\n",
    "data = pd.read_csv(splits_dir+'/CopasVasosAll_reg.txt', sep=\"*\", header=None, names=['image', 'clase'])"
   ]
  },
  {
   "cell_type": "code",
   "execution_count": 2,
   "metadata": {},
   "outputs": [
    {
     "data": {
      "text/html": [
       "<div>\n",
       "<style scoped>\n",
       "    .dataframe tbody tr th:only-of-type {\n",
       "        vertical-align: middle;\n",
       "    }\n",
       "\n",
       "    .dataframe tbody tr th {\n",
       "        vertical-align: top;\n",
       "    }\n",
       "\n",
       "    .dataframe thead th {\n",
       "        text-align: right;\n",
       "    }\n",
       "</style>\n",
       "<table border=\"1\" class=\"dataframe\">\n",
       "  <thead>\n",
       "    <tr style=\"text-align: right;\">\n",
       "      <th></th>\n",
       "      <th>image</th>\n",
       "      <th>clase</th>\n",
       "    </tr>\n",
       "  </thead>\n",
       "  <tbody>\n",
       "    <tr>\n",
       "      <th>0</th>\n",
       "      <td>/srv/datos/Laboratorio/Madrid/vaso Chato/Fondo...</td>\n",
       "      <td>100</td>\n",
       "    </tr>\n",
       "    <tr>\n",
       "      <th>1</th>\n",
       "      <td>/srv/datos/Laboratorio/Madrid/vaso Chato/Fondo...</td>\n",
       "      <td>50</td>\n",
       "    </tr>\n",
       "    <tr>\n",
       "      <th>2</th>\n",
       "      <td>/srv/datos/Laboratorio/Madrid/vaso Chato/Fondo...</td>\n",
       "      <td>50</td>\n",
       "    </tr>\n",
       "    <tr>\n",
       "      <th>3</th>\n",
       "      <td>/srv/datos/Laboratorio/Madrid/vaso Chato/Fondo...</td>\n",
       "      <td>175</td>\n",
       "    </tr>\n",
       "    <tr>\n",
       "      <th>4</th>\n",
       "      <td>/srv/datos/Laboratorio/Madrid/vaso Chato/Fondo...</td>\n",
       "      <td>175</td>\n",
       "    </tr>\n",
       "    <tr>\n",
       "      <th>...</th>\n",
       "      <td>...</td>\n",
       "      <td>...</td>\n",
       "    </tr>\n",
       "    <tr>\n",
       "      <th>7560</th>\n",
       "      <td>/srv/datos/Laboratorio/Madrid/copa Cata/Fondo ...</td>\n",
       "      <td>50</td>\n",
       "    </tr>\n",
       "    <tr>\n",
       "      <th>7561</th>\n",
       "      <td>/srv/datos/Laboratorio/Madrid/copa Cata/Fondo ...</td>\n",
       "      <td>75</td>\n",
       "    </tr>\n",
       "    <tr>\n",
       "      <th>7562</th>\n",
       "      <td>/srv/datos/Laboratorio/Madrid/copa Cata/Fondo ...</td>\n",
       "      <td>75</td>\n",
       "    </tr>\n",
       "    <tr>\n",
       "      <th>7563</th>\n",
       "      <td>/srv/datos/Laboratorio/Madrid/copa Cata/Fondo ...</td>\n",
       "      <td>50</td>\n",
       "    </tr>\n",
       "    <tr>\n",
       "      <th>7564</th>\n",
       "      <td>/srv/datos/Laboratorio/Madrid/copa Cata/Fondo ...</td>\n",
       "      <td>75</td>\n",
       "    </tr>\n",
       "  </tbody>\n",
       "</table>\n",
       "<p>7565 rows × 2 columns</p>\n",
       "</div>"
      ],
      "text/plain": [
       "                                                  image  clase\n",
       "0     /srv/datos/Laboratorio/Madrid/vaso Chato/Fondo...    100\n",
       "1     /srv/datos/Laboratorio/Madrid/vaso Chato/Fondo...     50\n",
       "2     /srv/datos/Laboratorio/Madrid/vaso Chato/Fondo...     50\n",
       "3     /srv/datos/Laboratorio/Madrid/vaso Chato/Fondo...    175\n",
       "4     /srv/datos/Laboratorio/Madrid/vaso Chato/Fondo...    175\n",
       "...                                                 ...    ...\n",
       "7560  /srv/datos/Laboratorio/Madrid/copa Cata/Fondo ...     50\n",
       "7561  /srv/datos/Laboratorio/Madrid/copa Cata/Fondo ...     75\n",
       "7562  /srv/datos/Laboratorio/Madrid/copa Cata/Fondo ...     75\n",
       "7563  /srv/datos/Laboratorio/Madrid/copa Cata/Fondo ...     50\n",
       "7564  /srv/datos/Laboratorio/Madrid/copa Cata/Fondo ...     75\n",
       "\n",
       "[7565 rows x 2 columns]"
      ]
     },
     "execution_count": 2,
     "metadata": {},
     "output_type": "execute_result"
    }
   ],
   "source": [
    "data"
   ]
  },
  {
   "cell_type": "code",
   "execution_count": 16,
   "metadata": {},
   "outputs": [
    {
     "name": "stdout",
     "output_type": "stream",
     "text": [
      "Counter({175: 852, 125: 852, 100: 851, 75: 851, 150: 851, 50: 842, 200: 625, 225: 587, 250: 527, 275: 420, 300: 307})\n"
     ]
    }
   ],
   "source": [
    "# https://machisnelearningmastery.com/train-test-split-for-evaluating-machine-learning-algorithms/\n",
    "from collections import Counter\n",
    "print(Counter(data.clase))"
   ]
  },
  {
   "cell_type": "code",
   "execution_count": 17,
   "metadata": {},
   "outputs": [
    {
     "name": "stdout",
     "output_type": "stream",
     "text": [
      "Counter({125: 683, 75: 683, 175: 683, 150: 683, 100: 682, 50: 675, 200: 501, 225: 471, 250: 423, 275: 337, 300: 246})\n",
      "Counter({175: 169, 100: 169, 125: 169, 75: 168, 150: 168, 50: 167, 200: 124, 225: 116, 250: 104, 275: 83, 300: 61})\n"
     ]
    }
   ],
   "source": [
    "# split into train test sets\n",
    "X_train, X_2, y_train, y_2 = train_test_split(data.image, data.clase, test_size=0.198, random_state=1, stratify=data.clase)\n",
    "print(Counter(y_train))\n",
    "print(Counter(y_2))"
   ]
  },
  {
   "cell_type": "code",
   "execution_count": 18,
   "metadata": {},
   "outputs": [
    {
     "name": "stdout",
     "output_type": "stream",
     "text": [
      "Counter({100: 85, 125: 85, 175: 84, 150: 84, 75: 84, 50: 83, 200: 62, 225: 58, 250: 52, 275: 42, 300: 30})\n",
      "Counter({175: 85, 100: 84, 50: 84, 125: 84, 150: 84, 75: 84, 200: 62, 225: 58, 250: 52, 275: 41, 300: 31})\n"
     ]
    }
   ],
   "source": [
    "X_test, X_val, y_test, y_val = train_test_split(X_2, y_2, test_size=0.5, random_state=1, stratify=y_2)\n",
    "print(Counter(y_test))\n",
    "print(Counter(y_val))"
   ]
  },
  {
   "cell_type": "code",
   "execution_count": 19,
   "metadata": {},
   "outputs": [],
   "source": [
    "train=pd.DataFrame(data={'image': X_train, 'clase': y_train})\n",
    "train.to_csv(r'/srv/images_classes/Regression/Madrid/train.txt', sep='*', index=None, header=None, mode='a')"
   ]
  },
  {
   "cell_type": "code",
   "execution_count": 20,
   "metadata": {},
   "outputs": [],
   "source": [
    "val=pd.DataFrame(data={'image': X_val, 'clase': y_val})\n",
    "val.to_csv(r'/srv/images_classes/Regression/Madrid/val.txt', sep='*', index=None, header=None, mode='a')"
   ]
  },
  {
   "cell_type": "code",
   "execution_count": 21,
   "metadata": {},
   "outputs": [],
   "source": [
    "test=pd.DataFrame(data={'image': X_test, 'clase': y_test})\n",
    "test.to_csv(r'/srv/images_classes/Regression/Madrid/test.txt', sep='*', index=None, header=None, mode='a')"
   ]
  },
  {
   "cell_type": "code",
   "execution_count": 22,
   "metadata": {},
   "outputs": [
    {
     "data": {
      "text/plain": [
       "6067"
      ]
     },
     "execution_count": 22,
     "metadata": {},
     "output_type": "execute_result"
    }
   ],
   "source": [
    "len(train)"
   ]
  },
  {
   "cell_type": "code",
   "execution_count": 23,
   "metadata": {},
   "outputs": [
    {
     "data": {
      "text/plain": [
       "749"
      ]
     },
     "execution_count": 23,
     "metadata": {},
     "output_type": "execute_result"
    }
   ],
   "source": [
    "len(val)"
   ]
  },
  {
   "cell_type": "code",
   "execution_count": 24,
   "metadata": {},
   "outputs": [
    {
     "data": {
      "text/plain": [
       "749"
      ]
     },
     "execution_count": 24,
     "metadata": {},
     "output_type": "execute_result"
    }
   ],
   "source": [
    "len(test)"
   ]
  },
  {
   "cell_type": "code",
   "execution_count": null,
   "metadata": {},
   "outputs": [],
   "source": []
  }
 ],
 "metadata": {
  "kernelspec": {
   "display_name": "Python 3",
   "language": "python",
   "name": "python3"
  },
  "language_info": {
   "codemirror_mode": {
    "name": "ipython",
    "version": 3
   },
   "file_extension": ".py",
   "mimetype": "text/x-python",
   "name": "python",
   "nbconvert_exporter": "python",
   "pygments_lexer": "ipython3",
   "version": "3.6.8"
  }
 },
 "nbformat": 4,
 "nbformat_minor": 4
}
