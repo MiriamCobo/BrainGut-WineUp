{
 "cells": [
  {
   "cell_type": "markdown",
   "metadata": {},
   "source": [
    "# 0.0 Divide your data into distributed train, val and test sets\n",
    "\n",
    "Our file todo.txt contains all the images and its corresponding classes. Now we want to split our images into train, val and test files, so that the classes are well distributed (e.g. if the dataset is highly imbalanced the images are not randomly separated)."
   ]
  },
  {
   "cell_type": "code",
   "execution_count": 13,
   "metadata": {},
   "outputs": [],
   "source": [
    "import os\n",
    "\n",
    "import matplotlib.pylab as plt\n",
    "import numpy as np\n",
    "import pandas as pd\n",
    "from tqdm import tqdm\n",
    "\n",
    "import imgclas\n",
    "from imgclas import paths, config\n",
    "from imgclas.data_utils import load_image, load_data_splits, augment, load_class_names\n",
    "\n",
    "from sklearn.model_selection import train_test_split\n",
    "\n",
    "CONF = config.get_conf_dict()\n",
    "\n",
    "# Customize your image folder if needed\n",
    "# CONF['general']['images_directory'] = '/media/ignacio/Datos/datasets/semillas/datasets'  # absolute path to image_folder\n",
    "\n",
    "# splits_dir = paths.get_splits_dir()\n",
    "splits_dir = '/srv/images_classes/copa Char'\n",
    "\n",
    "# Load the data\n",
    "data = pd.read_csv(splits_dir+'/copaChar.txt', sep=\"*\", header=None, names=['image', 'clase'])"
   ]
  },
  {
   "cell_type": "code",
   "execution_count": 14,
   "metadata": {},
   "outputs": [
    {
     "data": {
      "text/html": [
       "<div>\n",
       "<style scoped>\n",
       "    .dataframe tbody tr th:only-of-type {\n",
       "        vertical-align: middle;\n",
       "    }\n",
       "\n",
       "    .dataframe tbody tr th {\n",
       "        vertical-align: top;\n",
       "    }\n",
       "\n",
       "    .dataframe thead th {\n",
       "        text-align: right;\n",
       "    }\n",
       "</style>\n",
       "<table border=\"1\" class=\"dataframe\">\n",
       "  <thead>\n",
       "    <tr style=\"text-align: right;\">\n",
       "      <th></th>\n",
       "      <th>image</th>\n",
       "      <th>clase</th>\n",
       "    </tr>\n",
       "  </thead>\n",
       "  <tbody>\n",
       "    <tr>\n",
       "      <th>0</th>\n",
       "      <td>/srv/datos/Laboratorio/Madrid/copa Char/Fondo ...</td>\n",
       "      <td>200</td>\n",
       "    </tr>\n",
       "    <tr>\n",
       "      <th>1</th>\n",
       "      <td>/srv/datos/Laboratorio/Madrid/copa Char/Fondo ...</td>\n",
       "      <td>200</td>\n",
       "    </tr>\n",
       "    <tr>\n",
       "      <th>2</th>\n",
       "      <td>/srv/datos/Laboratorio/Madrid/copa Char/Fondo ...</td>\n",
       "      <td>200</td>\n",
       "    </tr>\n",
       "    <tr>\n",
       "      <th>3</th>\n",
       "      <td>/srv/datos/Laboratorio/Madrid/copa Char/Fondo ...</td>\n",
       "      <td>200</td>\n",
       "    </tr>\n",
       "    <tr>\n",
       "      <th>4</th>\n",
       "      <td>/srv/datos/Laboratorio/Madrid/copa Char/Fondo ...</td>\n",
       "      <td>125</td>\n",
       "    </tr>\n",
       "    <tr>\n",
       "      <th>...</th>\n",
       "      <td>...</td>\n",
       "      <td>...</td>\n",
       "    </tr>\n",
       "    <tr>\n",
       "      <th>811</th>\n",
       "      <td>/srv/datos/Laboratorio/Madrid/copa Char/Fondo ...</td>\n",
       "      <td>100</td>\n",
       "    </tr>\n",
       "    <tr>\n",
       "      <th>812</th>\n",
       "      <td>/srv/datos/Laboratorio/Madrid/copa Char/Fondo ...</td>\n",
       "      <td>200</td>\n",
       "    </tr>\n",
       "    <tr>\n",
       "      <th>813</th>\n",
       "      <td>/srv/datos/Laboratorio/Madrid/copa Char/Fondo ...</td>\n",
       "      <td>225</td>\n",
       "    </tr>\n",
       "    <tr>\n",
       "      <th>814</th>\n",
       "      <td>/srv/datos/Laboratorio/Madrid/copa Char/Fondo ...</td>\n",
       "      <td>200</td>\n",
       "    </tr>\n",
       "    <tr>\n",
       "      <th>815</th>\n",
       "      <td>/srv/datos/Laboratorio/Madrid/copa Char/Fondo ...</td>\n",
       "      <td>150</td>\n",
       "    </tr>\n",
       "  </tbody>\n",
       "</table>\n",
       "<p>816 rows × 2 columns</p>\n",
       "</div>"
      ],
      "text/plain": [
       "                                                 image  clase\n",
       "0    /srv/datos/Laboratorio/Madrid/copa Char/Fondo ...    200\n",
       "1    /srv/datos/Laboratorio/Madrid/copa Char/Fondo ...    200\n",
       "2    /srv/datos/Laboratorio/Madrid/copa Char/Fondo ...    200\n",
       "3    /srv/datos/Laboratorio/Madrid/copa Char/Fondo ...    200\n",
       "4    /srv/datos/Laboratorio/Madrid/copa Char/Fondo ...    125\n",
       "..                                                 ...    ...\n",
       "811  /srv/datos/Laboratorio/Madrid/copa Char/Fondo ...    100\n",
       "812  /srv/datos/Laboratorio/Madrid/copa Char/Fondo ...    200\n",
       "813  /srv/datos/Laboratorio/Madrid/copa Char/Fondo ...    225\n",
       "814  /srv/datos/Laboratorio/Madrid/copa Char/Fondo ...    200\n",
       "815  /srv/datos/Laboratorio/Madrid/copa Char/Fondo ...    150\n",
       "\n",
       "[816 rows x 2 columns]"
      ]
     },
     "execution_count": 14,
     "metadata": {},
     "output_type": "execute_result"
    }
   ],
   "source": [
    "data"
   ]
  },
  {
   "cell_type": "code",
   "execution_count": 15,
   "metadata": {},
   "outputs": [
    {
     "name": "stdout",
     "output_type": "stream",
     "text": [
      "Counter({200: 108, 125: 108, 50: 108, 175: 108, 150: 108, 100: 108, 75: 108, 225: 60})\n"
     ]
    }
   ],
   "source": [
    "# https://machisnelearningmastery.com/train-test-split-for-evaluating-machine-learning-algorithms/\n",
    "from collections import Counter\n",
    "print(Counter(data.clase))"
   ]
  },
  {
   "cell_type": "code",
   "execution_count": 16,
   "metadata": {},
   "outputs": [
    {
     "name": "stdout",
     "output_type": "stream",
     "text": [
      "Counter({50: 76, 75: 76, 200: 76, 100: 76, 125: 75, 150: 75, 175: 75, 225: 42})\n",
      "Counter({125: 33, 175: 33, 150: 33, 200: 32, 50: 32, 75: 32, 100: 32, 225: 18})\n"
     ]
    }
   ],
   "source": [
    "# split into train test sets\n",
    "X_train, X_2, y_train, y_2 = train_test_split(data.image, data.clase, test_size=0.30, random_state=1, stratify=data.clase)\n",
    "print(Counter(y_train))\n",
    "print(Counter(y_2))"
   ]
  },
  {
   "cell_type": "code",
   "execution_count": 17,
   "metadata": {},
   "outputs": [
    {
     "name": "stdout",
     "output_type": "stream",
     "text": [
      "Counter({100: 22, 175: 22, 150: 22, 125: 22, 200: 22, 50: 21, 75: 21, 225: 12})\n",
      "Counter({50: 11, 175: 11, 125: 11, 150: 11, 75: 11, 200: 10, 100: 10, 225: 6})\n"
     ]
    }
   ],
   "source": [
    "X_test, X_val, y_test, y_val = train_test_split(X_2, y_2, test_size=0.33, random_state=1, stratify=y_2)\n",
    "print(Counter(y_test))\n",
    "print(Counter(y_val))"
   ]
  },
  {
   "cell_type": "code",
   "execution_count": 26,
   "metadata": {},
   "outputs": [],
   "source": [
    "train=pd.DataFrame(data={'image': X_train, 'clase': y_train})\n",
    "train.to_csv(r'/srv/images_classes/copa Char/train.txt', sep='*', index=None, header=None, mode='a')"
   ]
  },
  {
   "cell_type": "code",
   "execution_count": 27,
   "metadata": {},
   "outputs": [],
   "source": [
    "val=pd.DataFrame(data={'image': X_val, 'clase': y_val})\n",
    "val.to_csv(r'/srv/images_classes/copa Char/val.txt', sep='*', index=None, header=None, mode='a')"
   ]
  },
  {
   "cell_type": "code",
   "execution_count": 28,
   "metadata": {},
   "outputs": [],
   "source": [
    "test=pd.DataFrame(data={'image': X_test, 'clase': y_test})\n",
    "test.to_csv(r'/srv/images_classes/copa Char/test.txt', sep='*', index=None, header=None, mode='a')"
   ]
  }
 ],
 "metadata": {
  "kernelspec": {
   "display_name": "Python 3",
   "language": "python",
   "name": "python3"
  },
  "language_info": {
   "codemirror_mode": {
    "name": "ipython",
    "version": 3
   },
   "file_extension": ".py",
   "mimetype": "text/x-python",
   "name": "python",
   "nbconvert_exporter": "python",
   "pygments_lexer": "ipython3",
   "version": "3.6.8"
  }
 },
 "nbformat": 4,
 "nbformat_minor": 4
}
