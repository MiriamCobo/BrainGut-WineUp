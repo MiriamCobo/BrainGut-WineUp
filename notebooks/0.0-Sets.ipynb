{
 "cells": [
  {
   "cell_type": "markdown",
   "metadata": {},
   "source": [
    "# 0.0 Divide your data into distributed train, val and test sets\n",
    "\n",
    "Our file todo.txt contains all the images and it corresponding classes. Now we want to split our images into train, val and test files."
   ]
  },
  {
   "cell_type": "code",
   "execution_count": 9,
   "metadata": {},
   "outputs": [],
   "source": [
    "import os\n",
    "\n",
    "import matplotlib.pylab as plt\n",
    "import numpy as np\n",
    "import pandas as pd\n",
    "from tqdm import tqdm\n",
    "\n",
    "import imgclas\n",
    "from imgclas import paths, config\n",
    "from imgclas.data_utils import load_image, load_data_splits, augment, load_class_names\n",
    "\n",
    "\n",
    "CONF = config.get_conf_dict()\n",
    "\n",
    "# Customize your image folder if needed\n",
    "# CONF['general']['images_directory'] = '/media/ignacio/Datos/datasets/semillas/datasets'  # absolute path to image_folder\n",
    "\n",
    "splits_dir = paths.get_splits_dir()\n",
    "\n",
    "# Load the data\n",
    "data = pd.read_csv(splits_dir+'/todo.txt', sep=\" \", header=None, names=['image', 'class'])"
   ]
  },
  {
   "cell_type": "code",
   "execution_count": 10,
   "metadata": {},
   "outputs": [
    {
     "data": {
      "text/html": [
       "<div>\n",
       "<style scoped>\n",
       "    .dataframe tbody tr th:only-of-type {\n",
       "        vertical-align: middle;\n",
       "    }\n",
       "\n",
       "    .dataframe tbody tr th {\n",
       "        vertical-align: top;\n",
       "    }\n",
       "\n",
       "    .dataframe thead th {\n",
       "        text-align: right;\n",
       "    }\n",
       "</style>\n",
       "<table border=\"1\" class=\"dataframe\">\n",
       "  <thead>\n",
       "    <tr style=\"text-align: right;\">\n",
       "      <th></th>\n",
       "      <th>image</th>\n",
       "      <th>class</th>\n",
       "    </tr>\n",
       "  </thead>\n",
       "  <tbody>\n",
       "    <tr>\n",
       "      <th>0</th>\n",
       "      <td>Est_Mad_J_Bor_225_nd_nf_bl_con_al_inf.jpg</td>\n",
       "      <td>4</td>\n",
       "    </tr>\n",
       "    <tr>\n",
       "      <th>1</th>\n",
       "      <td>Est_Mad_J_Bor_50_nd_f_bl_con_ce_cen.jpg</td>\n",
       "      <td>0</td>\n",
       "    </tr>\n",
       "    <tr>\n",
       "      <th>2</th>\n",
       "      <td>Est_Mad_J_Bor_225_nd_f_bl_con_ce_sup.jpg</td>\n",
       "      <td>4</td>\n",
       "    </tr>\n",
       "    <tr>\n",
       "      <th>3</th>\n",
       "      <td>Est_Mad_J_Bor_175_nd_f_bl_sin_me_inf.jpg</td>\n",
       "      <td>3</td>\n",
       "    </tr>\n",
       "    <tr>\n",
       "      <th>4</th>\n",
       "      <td>Est_Mad_J_Bor_125_nd_f_bl_sin_ce_sup.jpg</td>\n",
       "      <td>2</td>\n",
       "    </tr>\n",
       "    <tr>\n",
       "      <th>...</th>\n",
       "      <td>...</td>\n",
       "      <td>...</td>\n",
       "    </tr>\n",
       "    <tr>\n",
       "      <th>523</th>\n",
       "      <td>Est_Mad_J_Bor_150_nd_f_bl_sin_me_sup1.jpg</td>\n",
       "      <td>2</td>\n",
       "    </tr>\n",
       "    <tr>\n",
       "      <th>524</th>\n",
       "      <td>Est_Mad_J_Bor_75_nd_nf_bl_con_ce_cen.jpg</td>\n",
       "      <td>1</td>\n",
       "    </tr>\n",
       "    <tr>\n",
       "      <th>525</th>\n",
       "      <td>Est_Mad_J_Bor_125_nd_nf_bl_con_me_sup.jpg</td>\n",
       "      <td>2</td>\n",
       "    </tr>\n",
       "    <tr>\n",
       "      <th>526</th>\n",
       "      <td>Est_Mad_J_Bor_300_nd_f_bl_con_al_sup1.jpg</td>\n",
       "      <td>5</td>\n",
       "    </tr>\n",
       "    <tr>\n",
       "      <th>527</th>\n",
       "      <td>Est_Mad_J_Bor_300_nd_nf_bl_con_ce_sup.jpg</td>\n",
       "      <td>5</td>\n",
       "    </tr>\n",
       "  </tbody>\n",
       "</table>\n",
       "<p>528 rows × 2 columns</p>\n",
       "</div>"
      ],
      "text/plain": [
       "                                         image  class\n",
       "0    Est_Mad_J_Bor_225_nd_nf_bl_con_al_inf.jpg      4\n",
       "1      Est_Mad_J_Bor_50_nd_f_bl_con_ce_cen.jpg      0\n",
       "2     Est_Mad_J_Bor_225_nd_f_bl_con_ce_sup.jpg      4\n",
       "3     Est_Mad_J_Bor_175_nd_f_bl_sin_me_inf.jpg      3\n",
       "4     Est_Mad_J_Bor_125_nd_f_bl_sin_ce_sup.jpg      2\n",
       "..                                         ...    ...\n",
       "523  Est_Mad_J_Bor_150_nd_f_bl_sin_me_sup1.jpg      2\n",
       "524   Est_Mad_J_Bor_75_nd_nf_bl_con_ce_cen.jpg      1\n",
       "525  Est_Mad_J_Bor_125_nd_nf_bl_con_me_sup.jpg      2\n",
       "526  Est_Mad_J_Bor_300_nd_f_bl_con_al_sup1.jpg      5\n",
       "527  Est_Mad_J_Bor_300_nd_nf_bl_con_ce_sup.jpg      5\n",
       "\n",
       "[528 rows x 2 columns]"
      ]
     },
     "execution_count": 10,
     "metadata": {},
     "output_type": "execute_result"
    }
   ],
   "source": [
    "data"
   ]
  },
  {
   "cell_type": "code",
   "execution_count": null,
   "metadata": {},
   "outputs": [],
   "source": []
  }
 ],
 "metadata": {
  "kernelspec": {
   "display_name": "Python 3",
   "language": "python",
   "name": "python3"
  },
  "language_info": {
   "codemirror_mode": {
    "name": "ipython",
    "version": 3
   },
   "file_extension": ".py",
   "mimetype": "text/x-python",
   "name": "python",
   "nbconvert_exporter": "python",
   "pygments_lexer": "ipython3",
   "version": "3.6.8"
  }
 },
 "nbformat": 4,
 "nbformat_minor": 4
}
