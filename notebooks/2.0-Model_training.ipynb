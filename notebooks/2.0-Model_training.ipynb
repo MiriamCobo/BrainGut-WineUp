{
 "cells": [
  {
   "cell_type": "markdown",
   "metadata": {},
   "source": [
    "# Training phase\n",
    "\n",
    "## Setting up the configuration\n",
    "Fisrt let's check the configuration parameters in case you want to change some of them base on the previous analysis. In any case the default configuration should **provide you with a good start**.\n"
   ]
  },
  {
   "cell_type": "code",
   "execution_count": 1,
   "metadata": {},
   "outputs": [
    {
     "name": "stdout",
     "output_type": "stream",
     "text": [
      "group                    key                           value                         \n",
      "===========================================================================\n",
      "augmentation             train_mode                    {'h_flip': 0.5, 'v_flip': 0.5, 'rot': 0.7, 'rot_lim': 90, 'stretch': 0.5, 'crop': 1.0, 'zoom': 0.2, 'blur': 0.3, 'pixel_noise': 0.3, 'pixel_sat': 0.3, 'cutout': 0.5} \n",
      "\n",
      "augmentation             val_mode                      {'h_flip': 0.5, 'v_flip': 0.0, 'rot': 0.5, 'rot_lim': 30, 'stretch': 0.0, 'crop': 0.9, 'zoom': 0.1, 'blur': 0.1, 'pixel_noise': 0.1, 'pixel_sat': 0.1, 'cutout': 0.0} \n",
      "\n",
      "---------------------------------------------------------------------------\n",
      "\n",
      "dataset                  mean_RGB                      None            \n",
      "\n",
      "dataset                  std_RGB                       None            \n",
      "\n",
      "---------------------------------------------------------------------------\n",
      "\n",
      "general                  base_directory                .               \n",
      "\n",
      "general                  images_directory              data/images     \n",
      "\n",
      "---------------------------------------------------------------------------\n",
      "\n",
      "model                    image_size                    224             \n",
      "\n",
      "model                    modelname                     Xception        \n",
      "\n",
      "model                    num_classes                   None            \n",
      "\n",
      "model                    preprocess_mode               None            \n",
      "\n",
      "---------------------------------------------------------------------------\n",
      "\n",
      "monitor                  use_remote                    False           \n",
      "\n",
      "monitor                  use_tensorboard               True            \n",
      "\n",
      "---------------------------------------------------------------------------\n",
      "\n",
      "training                 batch_size                    32              \n",
      "\n",
      "training                 ckpt_freq                     None            \n",
      "\n",
      "training                 class_weights_mode            None            \n",
      "\n",
      "training                 epochs                        30              \n",
      "\n",
      "training                 initial_lr                    0.001           \n",
      "\n",
      "training                 l2_reg                        0.0001          \n",
      "\n",
      "training                 lr_schedule_mode              step            \n",
      "\n",
      "training                 lr_step_decay                 0.1             \n",
      "\n",
      "training                 lr_step_schedule              [0.7, 0.9]      \n",
      "\n",
      "training                 use_validation                True            \n",
      "\n",
      "---------------------------------------------------------------------------\n",
      "\n"
     ]
    }
   ],
   "source": [
    "from imgclas import config\n",
    "\n",
    "config.print_conf_table()"
   ]
  },
  {
   "cell_type": "markdown",
   "metadata": {},
   "source": [
    "In case you want to change the configuration feel free to do so by modifying `etc/config.yaml`."
   ]
  },
  {
   "cell_type": "markdown",
   "metadata": {},
   "source": [
    "## Training\n",
    "\n",
    "Once you have set up the configuration if needed you can launch the training by running the file `train_runfile.py`\n",
    "\n",
    "#### Tips: \n",
    "* If you are running several times different training configurations but with the **same** dataset you might consider to add the `mean_RGB` and `std_RGB` parameters to your `config.yaml` file. You can find them computed in any of your already trained models by looking into `../models/[timestamp]/conf/conf.txt`."
   ]
  },
  {
   "cell_type": "markdown",
   "metadata": {},
   "source": [
    "## Resuming training"
   ]
  },
  {
   "cell_type": "code",
   "execution_count": null,
   "metadata": {},
   "outputs": [],
   "source": [
    "#not implemented yet"
   ]
  },
  {
   "cell_type": "markdown",
   "metadata": {},
   "source": [
    "## Visualizing the training results"
   ]
  },
  {
   "cell_type": "code",
   "execution_count": 4,
   "metadata": {},
   "outputs": [
    {
     "data": {
      "image/png": "[encoded data removed]",
      "text/plain": [
       "<Figure size 1152x576 with 2 Axes>"
      ]
     },
     "metadata": {},
     "output_type": "display_data"
    }
   ],
   "source": [
    "import os\n",
    "import json\n",
    "\n",
    "import matplotlib.pylab as plt\n",
    "import numpy as np\n",
    "\n",
    "from imgclas import paths, plot_utils\n",
    "\n",
    "# Put your timestamp\n",
    "# paths.timestamp = '2018-09-12_17:47:18'\n",
    "paths.timestamp = 'xception'\n",
    "\n",
    "# Load training statistics\n",
    "stats_path = os.path.join(paths.get_stats_dir(), 'stats.json')\n",
    "with open(stats_path) as f:\n",
    "    stats = json.load(f)\n",
    "\n",
    "# Load training configuration\n",
    "conf_path = os.path.join(paths.get_conf_dir(), 'conf.json')\n",
    "with open(conf_path) as f:\n",
    "    conf = json.load(f)\n",
    "\n",
    "# Plot the trainig plots \n",
    "plot_utils.training_plots(conf, stats)"
   ]
  }
 ],
 "metadata": {
  "kernelspec": {
   "display_name": "Python 3",
   "language": "python",
   "name": "python3"
  },
  "language_info": {
   "codemirror_mode": {
    "name": "ipython",
    "version": 3
   },
   "file_extension": ".py",
   "mimetype": "text/x-python",
   "name": "python",
   "nbconvert_exporter": "python",
   "pygments_lexer": "ipython3",
   "version": "3.6.5"
  }
 },
 "nbformat": 4,
 "nbformat_minor": 2
}
