{
 "cells": [
  {
   "cell_type": "markdown",
   "metadata": {},
   "source": [
    "# Modelo 2021-09-28_Lab_Madrid_CopaBor_FondoBlanco_Xception_100ep\n",
    "\n",
    "Problema de clasificación con 6 clases.\n",
    "\n",
    "Modelo: Xception con image_size = 528, batch_size=16, 100 épocas. Tarda unos 52 s por época.\n",
    "\n",
    "528 imágenes en total: 369 train + 53 val + 106 test que se han distribuido de forma homogénea de manera que el dataset esté equilibrado (ya que había la mitad de imágenes de clase  <= 50 mL con respecto al resto de clases).\n",
    "\n",
    "Mean RGB pixel: [145.7009020327461, 145.57541800835594, 143.40409009710942]\n",
    "Standard deviation of RGB pixel: [37.09825214810984, 38.16266727994038, 37.706027031863435]"
   ]
  },
  {
   "cell_type": "code",
   "execution_count": 1,
   "metadata": {},
   "outputs": [
    {
     "name": "stderr",
     "output_type": "stream",
     "text": [
      "WARNING: Logging before flag parsing goes to stderr.\n",
      "W0929 07:06:45.172953 140341366814528 deprecation.py:506] From /usr/local/lib/python3.6/dist-packages/tensorflow/python/ops/init_ops.py:97: calling GlorotUniform.__init__ (from tensorflow.python.ops.init_ops) with dtype is deprecated and will be removed in a future version.\n",
      "Instructions for updating:\n",
      "Call initializer instance with the dtype argument instead of passing it to the constructor\n",
      "W0929 07:06:45.175280 140341366814528 deprecation.py:506] From /usr/local/lib/python3.6/dist-packages/tensorflow/python/ops/init_ops.py:1251: calling VarianceScaling.__init__ (from tensorflow.python.ops.init_ops) with dtype is deprecated and will be removed in a future version.\n",
      "Instructions for updating:\n",
      "Call initializer instance with the dtype argument instead of passing it to the constructor\n",
      "W0929 07:06:45.176966 140341366814528 deprecation.py:506] From /usr/local/lib/python3.6/dist-packages/tensorflow/python/ops/init_ops.py:97: calling Zeros.__init__ (from tensorflow.python.ops.init_ops) with dtype is deprecated and will be removed in a future version.\n",
      "Instructions for updating:\n",
      "Call initializer instance with the dtype argument instead of passing it to the constructor\n",
      "W0929 07:06:45.182715 140341366814528 deprecation.py:506] From /usr/local/lib/python3.6/dist-packages/tensorflow/python/ops/init_ops.py:97: calling Ones.__init__ (from tensorflow.python.ops.init_ops) with dtype is deprecated and will be removed in a future version.\n",
      "Instructions for updating:\n",
      "Call initializer instance with the dtype argument instead of passing it to the constructor\n"
     ]
    },
    {
     "name": "stdout",
     "output_type": "stream",
     "text": [
      "Loading class names...\n"
     ]
    }
   ],
   "source": [
    "import os\n",
    "import json\n",
    "import numpy as np\n",
    "import matplotlib.pylab as plt\n",
    "\n",
    "from tensorflow.keras.models import load_model\n",
    "\n",
    "from imgclas.data_utils import load_image, load_data_splits, load_class_names\n",
    "from imgclas.test_utils import predict\n",
    "from imgclas import paths, plot_utils, utils\n",
    "\n",
    "# User parameters to set\n",
    "TIMESTAMP = '2021-09-28_Lab_Madrid_CopaBor_FondoBlanco_Xception_100ep'                       # timestamp of the model\n",
    "MODEL_NAME = 'final_model.h5'                           # model to use to make the prediction\n",
    "TOP_K = 2                                               # number of top classes predictions to save\n",
    "\n",
    "# Set the timestamp\n",
    "paths.timestamp = TIMESTAMP\n",
    "\n",
    "# Load the data\n",
    "class_names = load_class_names(splits_dir=paths.get_ts_splits_dir())\n",
    "\n",
    "# Load training configuration\n",
    "conf_path = os.path.join(paths.get_conf_dir(), 'conf.json')\n",
    "with open(conf_path) as f:\n",
    "    conf = json.load(f)\n",
    "    \n",
    "# Load the model\n",
    "model = load_model(os.path.join(paths.get_checkpoints_dir(), MODEL_NAME), custom_objects=utils.get_custom_objects(), compile=False)"
   ]
  },
  {
   "cell_type": "markdown",
   "metadata": {},
   "source": [
    "## Predicciones\n",
    "\n",
    "### Test Laboratorio/Madrid/copa Bor/Fondo blanco"
   ]
  },
  {
   "cell_type": "code",
   "execution_count": 2,
   "metadata": {},
   "outputs": [
    {
     "name": "stdout",
     "output_type": "stream",
     "text": [
      "/srv/image-classification-tf\n"
     ]
    }
   ],
   "source": [
    "cd .."
   ]
  },
  {
   "cell_type": "code",
   "execution_count": 3,
   "metadata": {},
   "outputs": [
    {
     "name": "stdout",
     "output_type": "stream",
     "text": [
      "Loading test data...\n",
      "106/106 [==============================] - 151s 1s/step\n"
     ]
    }
   ],
   "source": [
    "SPLIT_NAME = 'test'                                         # data split to use (nombre del .txt que vas a leer, en este caso test)\n",
    "# conf['general']['images_directory'] = '/media/ignacio/Datos/datasets/semillas/datasets/RJB'  # custom the absolute path to the images directory, if needed\n",
    "\n",
    "# Load the data\n",
    "X, y = load_data_splits(splits_dir=paths.get_ts_splits_dir(),\n",
    "                        im_dir=conf['general']['images_directory'],\n",
    "                        split_name=SPLIT_NAME)\n",
    "\n",
    "# Predict\n",
    "pred_lab, pred_prob = predict(model, X, conf, top_K=TOP_K, filemode='local')\n",
    "\n",
    "# Save the predictions\n",
    "pred_dict = {'filenames': list(X),\n",
    "             'pred_lab': pred_lab.tolist(),\n",
    "             'pred_prob': pred_prob.tolist()}\n",
    "if y is not None:\n",
    "    pred_dict['true_lab'] = y.tolist()\n",
    "\n",
    "pred_path = os.path.join(paths.get_predictions_dir(), '{}+{}+top{}.json'.format(MODEL_NAME, SPLIT_NAME, TOP_K))\n",
    "with open(pred_path, 'w') as outfile:\n",
    "    json.dump(pred_dict, outfile, sort_keys=True)"
   ]
  },
  {
   "cell_type": "code",
   "execution_count": 4,
   "metadata": {},
   "outputs": [
    {
     "name": "stdout",
     "output_type": "stream",
     "text": [
      "Top1 accuracy: 95.3 %\n",
      "\n",
      "\n",
      "Micro recall: 95.3 %\n",
      "Macro recall: 95.7 %\n",
      "Macro recall (no labels): 95.7 %\n",
      "Weighted recall: 95.3 %\n",
      "\n",
      "\n",
      "Micro precision: 95.3 %\n",
      "Macro precision: 95.7 %\n",
      "Macro precision (no labels): 95.7 %\n",
      "Weighted precision: 95.4 %\n",
      "\n",
      "\n",
      "Micro F1 score: 95.3 %\n",
      "Macro F1 score: 95.7 %\n",
      "Macro F1 score (no labels): 95.7 %\n",
      "Weighted F1 score: 95.3 %\n"
     ]
    }
   ],
   "source": [
    "from imgclas import test_utils\n",
    "from sklearn.metrics import accuracy_score, precision_score, recall_score, f1_score\n",
    "\n",
    "\n",
    "true_lab, pred_lab = np.array(pred_dict['true_lab']), np.array(pred_dict['pred_lab'])\n",
    "\n",
    "top1 = test_utils.topK_accuracy(true_lab, pred_lab, K=1)\n",
    "# top5 = test_utils.topK_accuracy(true_lab, pred_lab, K=5)\n",
    "\n",
    "print('Top1 accuracy: {:.1f} %'.format(top1 * 100))\n",
    "# print('Top5 accuracy: {:.1f} %'.format(top5 * 100))\n",
    "\n",
    "labels = range(len(class_names))\n",
    "print('\\n')\n",
    "print('Micro recall: {:.1f} %'.format(100 * recall_score(true_lab, pred_lab[:, 0], labels=labels, average='micro')))\n",
    "print('Macro recall: {:.1f} %'.format(100 * recall_score(true_lab, pred_lab[:, 0], labels=labels, average='macro')))\n",
    "print('Macro recall (no labels): {:.1f} %'.format(100 * recall_score(true_lab, pred_lab[:, 0], average='macro')))\n",
    "print('Weighted recall: {:.1f} %'.format(100 * recall_score(true_lab, pred_lab[:, 0], labels=labels, average='weighted')))\n",
    "\n",
    "print('\\n')\n",
    "print('Micro precision: {:.1f} %'.format(100 * precision_score(true_lab, pred_lab[:, 0], labels=labels, average='micro')))\n",
    "print('Macro precision: {:.1f} %'.format(100 * precision_score(true_lab, pred_lab[:, 0], labels=labels, average='macro')))\n",
    "print('Macro precision (no labels): {:.1f} %'.format(100 * precision_score(true_lab, pred_lab[:, 0], average='macro')))\n",
    "print('Weighted precision: {:.1f} %'.format(100 * precision_score(true_lab, pred_lab[:, 0], labels=labels, average='weighted')))\n",
    "\n",
    "print('\\n')\n",
    "print('Micro F1 score: {:.1f} %'.format(100 * f1_score(true_lab, pred_lab[:, 0], labels=labels, average='micro')))\n",
    "print('Macro F1 score: {:.1f} %'.format(100 * f1_score(true_lab, pred_lab[:, 0], labels=labels, average='macro')))\n",
    "print('Macro F1 score (no labels): {:.1f} %'.format(100 * f1_score(true_lab, pred_lab[:, 0], average='macro')))\n",
    "print('Weighted F1 score: {:.1f} %'.format(100 * f1_score(true_lab, pred_lab[:, 0], labels=labels, average='weighted')))"
   ]
  },
  {
   "cell_type": "code",
   "execution_count": 7,
   "metadata": {},
   "outputs": [
    {
     "name": "stdout",
     "output_type": "stream",
     "text": [
      "Confusion matrix\n"
     ]
    },
    {
     "data": {
      "image/png": "[encoded data removed]",
      "text/plain": [
       "<Figure size 1440x1440 with 2 Axes>"
      ]
     },
     "metadata": {
      "needs_background": "light"
     },
     "output_type": "display_data"
    }
   ],
   "source": [
    "print(\"Confusion matrix\")\n",
    "import matplotlib.pylab as plt\n",
    "import seaborn\n",
    "from sklearn.metrics import confusion_matrix\n",
    "\n",
    "\n",
    "def plt_conf_matrix(conf_mat, labels=False):\n",
    "    \n",
    "    fig = plt.figure(figsize=(20, 20))\n",
    "    hm = seaborn.heatmap(conf_mat, annot=False, square=True, cbar_kws={'fraction':0.046, 'pad':0.04},\n",
    "                         xticklabels=labels, yticklabels=labels)\n",
    "    fontsize = None\n",
    "    hm.yaxis.set_ticklabels(hm.yaxis.get_ticklabels(), rotation=0, ha='right', fontsize=fontsize)\n",
    "    hm.xaxis.set_ticklabels(hm.xaxis.get_ticklabels(), rotation=90, ha='right', fontsize=fontsize)\n",
    "\n",
    "    plt.ylabel('True label')\n",
    "    plt.xlabel('Predicted label')\n",
    "    \n",
    "y_true, y_pred = np.array(pred_dict['true_lab']), np.array(pred_dict['pred_lab'])[:, 0]\n",
    "conf_mat = confusion_matrix(y_true, y_pred, labels=range(len(class_names)), sample_weight=None)\n",
    "normed_conf = conf_mat / np.sum(conf_mat, axis=1)[:, np.newaxis]\n",
    "\n",
    "# plt_conf_matrix(conf_mat)\n",
    "plt_conf_matrix(normed_conf, labels=class_names)"
   ]
  }
 ],
 "metadata": {
  "kernelspec": {
   "display_name": "Python 3",
   "language": "python",
   "name": "python3"
  },
  "language_info": {
   "codemirror_mode": {
    "name": "ipython",
    "version": 3
   },
   "file_extension": ".py",
   "mimetype": "text/x-python",
   "name": "python",
   "nbconvert_exporter": "python",
   "pygments_lexer": "ipython3",
   "version": "3.6.8"
  }
 },
 "nbformat": 4,
 "nbformat_minor": 4
}
