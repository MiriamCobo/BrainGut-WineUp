{
 "cells": [
  {
   "cell_type": "markdown",
   "metadata": {},
   "source": [
    "# Statistics for regression model\n",
    "\n",
    "Absolute and relative error for Lab images of glasses and cups model."
   ]
  },
  {
   "cell_type": "code",
   "execution_count": 1,
   "metadata": {},
   "outputs": [
    {
     "name": "stderr",
     "output_type": "stream",
     "text": [
      "WARNING: Logging before flag parsing goes to stderr.\n",
      "W1119 09:35:18.208162 139812046260032 deprecation.py:506] From /usr/local/lib/python3.6/dist-packages/tensorflow/python/ops/init_ops.py:97: calling GlorotUniform.__init__ (from tensorflow.python.ops.init_ops) with dtype is deprecated and will be removed in a future version.\n",
      "Instructions for updating:\n",
      "Call initializer instance with the dtype argument instead of passing it to the constructor\n",
      "W1119 09:35:18.210899 139812046260032 deprecation.py:506] From /usr/local/lib/python3.6/dist-packages/tensorflow/python/ops/init_ops.py:1251: calling VarianceScaling.__init__ (from tensorflow.python.ops.init_ops) with dtype is deprecated and will be removed in a future version.\n",
      "Instructions for updating:\n",
      "Call initializer instance with the dtype argument instead of passing it to the constructor\n",
      "W1119 09:35:18.212519 139812046260032 deprecation.py:506] From /usr/local/lib/python3.6/dist-packages/tensorflow/python/ops/init_ops.py:97: calling Zeros.__init__ (from tensorflow.python.ops.init_ops) with dtype is deprecated and will be removed in a future version.\n",
      "Instructions for updating:\n",
      "Call initializer instance with the dtype argument instead of passing it to the constructor\n",
      "W1119 09:35:18.218241 139812046260032 deprecation.py:506] From /usr/local/lib/python3.6/dist-packages/tensorflow/python/ops/init_ops.py:97: calling Ones.__init__ (from tensorflow.python.ops.init_ops) with dtype is deprecated and will be removed in a future version.\n",
      "Instructions for updating:\n",
      "Call initializer instance with the dtype argument instead of passing it to the constructor\n"
     ]
    }
   ],
   "source": [
    "import os\n",
    "import json\n",
    "\n",
    "import numpy as np\n",
    "import matplotlib.pylab as plt\n",
    "from tensorflow.keras.models import load_model\n",
    "\n",
    "from imgclas import paths, utils, data_utils\n",
    "from imgclas.data_utils import load_data_splits, k_crop_data_sequence\n",
    "from imgclas.test_utils import predict\n",
    "from imgclas.visualization.saliency import GradientSaliency\n",
    "from imgclas.visualization.guided_backprop import GuidedBackprop\n",
    "from imgclas.visualization.integrated_gradients import IntegratedGradients\n",
    "from imgclas.visualization.visual_backprop import VisualBackprop\n",
    "\n",
    "# User parameters to set\n",
    "TIMESTAMP = '2021-11-03_Lab_All_CopasVasos_All_reg'                       # timestamp of the model\n",
    "MODEL_NAME = 'final_model.h5'                           # model to use to make the prediction\n",
    "TOP_K = 2                                               # number of top classes predictions to save\n",
    "\n",
    "# Set the timestamp\n",
    "paths.timestamp = TIMESTAMP\n",
    "\n",
    "# Load training configuration\n",
    "conf_path = os.path.join(paths.get_conf_dir(), 'conf.json')\n",
    "with open(conf_path) as f:\n",
    "    conf = json.load(f)\n",
    "    \n",
    "# Load the model\n",
    "model = load_model(os.path.join(paths.get_checkpoints_dir(), MODEL_NAME), custom_objects=utils.get_custom_objects(), compile=True)"
   ]
  },
  {
   "cell_type": "code",
   "execution_count": 26,
   "metadata": {},
   "outputs": [],
   "source": [
    "import pandas as pd\n",
    "# Load back the predictions\n",
    "SPLIT_NAME='test'\n",
    "pred_path = os.path.join(paths.get_predictions_dir(), '{}+{}.json'.format(MODEL_NAME, SPLIT_NAME, TOP_K))\n",
    "with open(pred_path) as f:\n",
    "    pred_dict = json.load(f)\n",
    "\n",
    "df_pred=pd.DataFrame(pred_dict)\n",
    "df_pred['abs_error']=abs(df_pred.pred_value-df_pred.true_value)"
   ]
  },
  {
   "cell_type": "code",
   "execution_count": 27,
   "metadata": {},
   "outputs": [
    {
     "data": {
      "text/html": [
       "<div>\n",
       "<style scoped>\n",
       "    .dataframe tbody tr th:only-of-type {\n",
       "        vertical-align: middle;\n",
       "    }\n",
       "\n",
       "    .dataframe tbody tr th {\n",
       "        vertical-align: top;\n",
       "    }\n",
       "\n",
       "    .dataframe thead th {\n",
       "        text-align: right;\n",
       "    }\n",
       "</style>\n",
       "<table border=\"1\" class=\"dataframe\">\n",
       "  <thead>\n",
       "    <tr style=\"text-align: right;\">\n",
       "      <th></th>\n",
       "      <th>filenames</th>\n",
       "      <th>pred_value</th>\n",
       "      <th>true_value</th>\n",
       "      <th>abs_error</th>\n",
       "      <th>plane</th>\n",
       "      <th>angle</th>\n",
       "      <th>back</th>\n",
       "      <th>vol</th>\n",
       "      <th>glass</th>\n",
       "      <th>ref</th>\n",
       "      <th>light</th>\n",
       "    </tr>\n",
       "  </thead>\n",
       "  <tbody>\n",
       "    <tr>\n",
       "      <th>0</th>\n",
       "      <td>/srv/datos/Laboratorio/La Rioja/ICVV/Copa Char...</td>\n",
       "      <td>74.349709</td>\n",
       "      <td>75</td>\n",
       "      <td>0.650291</td>\n",
       "      <td>ce</td>\n",
       "      <td>cen</td>\n",
       "      <td>az</td>\n",
       "      <td>75</td>\n",
       "      <td>Char</td>\n",
       "      <td>con</td>\n",
       "      <td>nf</td>\n",
       "    </tr>\n",
       "    <tr>\n",
       "      <th>1</th>\n",
       "      <td>/srv/datos/Laboratorio/La Rioja/ICVV/Vaso Dura...</td>\n",
       "      <td>95.382797</td>\n",
       "      <td>100</td>\n",
       "      <td>4.617203</td>\n",
       "      <td>me</td>\n",
       "      <td>sup1</td>\n",
       "      <td>bl</td>\n",
       "      <td>100</td>\n",
       "      <td>Dura</td>\n",
       "      <td>sin</td>\n",
       "      <td>nf</td>\n",
       "    </tr>\n",
       "    <tr>\n",
       "      <th>2</th>\n",
       "      <td>/srv/datos/Laboratorio/Madrid/copa Char/Fondo ...</td>\n",
       "      <td>194.206573</td>\n",
       "      <td>200</td>\n",
       "      <td>5.793427</td>\n",
       "      <td>ce</td>\n",
       "      <td>inf</td>\n",
       "      <td>bl</td>\n",
       "      <td>200</td>\n",
       "      <td>Char</td>\n",
       "      <td>con</td>\n",
       "      <td>f</td>\n",
       "    </tr>\n",
       "    <tr>\n",
       "      <th>3</th>\n",
       "      <td>/srv/datos/Laboratorio/Madrid/copa Char/Fondo ...</td>\n",
       "      <td>195.143982</td>\n",
       "      <td>200</td>\n",
       "      <td>4.856018</td>\n",
       "      <td>me</td>\n",
       "      <td>inf</td>\n",
       "      <td>bl</td>\n",
       "      <td>200</td>\n",
       "      <td>Char</td>\n",
       "      <td>sin</td>\n",
       "      <td>nf</td>\n",
       "    </tr>\n",
       "    <tr>\n",
       "      <th>4</th>\n",
       "      <td>/srv/datos/Laboratorio/La Rioja/ICVV/Copa Borg...</td>\n",
       "      <td>98.471153</td>\n",
       "      <td>100</td>\n",
       "      <td>1.528847</td>\n",
       "      <td>me</td>\n",
       "      <td>sup1</td>\n",
       "      <td>bl</td>\n",
       "      <td>100</td>\n",
       "      <td>Bor</td>\n",
       "      <td>con</td>\n",
       "      <td>f</td>\n",
       "    </tr>\n",
       "  </tbody>\n",
       "</table>\n",
       "</div>"
      ],
      "text/plain": [
       "                                           filenames  pred_value  true_value  \\\n",
       "0  /srv/datos/Laboratorio/La Rioja/ICVV/Copa Char...   74.349709          75   \n",
       "1  /srv/datos/Laboratorio/La Rioja/ICVV/Vaso Dura...   95.382797         100   \n",
       "2  /srv/datos/Laboratorio/Madrid/copa Char/Fondo ...  194.206573         200   \n",
       "3  /srv/datos/Laboratorio/Madrid/copa Char/Fondo ...  195.143982         200   \n",
       "4  /srv/datos/Laboratorio/La Rioja/ICVV/Copa Borg...   98.471153         100   \n",
       "\n",
       "   abs_error plane angle back  vol glass  ref light  \n",
       "0   0.650291    ce   cen   az   75  Char  con    nf  \n",
       "1   4.617203    me  sup1   bl  100  Dura  sin    nf  \n",
       "2   5.793427    ce   inf   bl  200  Char  con     f  \n",
       "3   4.856018    me   inf   bl  200  Char  sin    nf  \n",
       "4   1.528847    me  sup1   bl  100   Bor  con     f  "
      ]
     },
     "execution_count": 27,
     "metadata": {},
     "output_type": "execute_result"
    }
   ],
   "source": [
    "# extract values of angle, plane and background in all images\n",
    "df_pred['plane'] = df_pred.apply(lambda row: row.filenames.split('_')[-2], axis=1)\n",
    "df_pred['angle'] = df_pred.apply(lambda row: row.filenames.split('_')[-1].split('.')[0], axis=1)\n",
    "df_pred['back'] = df_pred.apply(lambda row: row.filenames.split('_')[-4], axis=1)\n",
    "df_pred['vol'] = df_pred.apply(lambda row: row.filenames.split('_')[4], axis=1)\n",
    "df_pred['glass'] = df_pred.apply(lambda row: row.filenames.split('_')[3], axis=1)\n",
    "df_pred['ref'] = df_pred.apply(lambda row: row.filenames.split('_')[-3], axis=1)\n",
    "df_pred['light'] = df_pred.apply(lambda row: row.filenames.split('_')[-5], axis=1)\n",
    "df_pred.head(5)"
   ]
  },
  {
   "cell_type": "code",
   "execution_count": null,
   "metadata": {},
   "outputs": [],
   "source": [
    "# mean absolute error for each kind of glass"
   ]
  },
  {
   "cell_type": "code",
   "execution_count": 4,
   "metadata": {},
   "outputs": [
    {
     "data": {
      "text/plain": [
       "dict_keys(['filenames', 'pred_value', 'true_value'])"
      ]
     },
     "execution_count": 4,
     "metadata": {},
     "output_type": "execute_result"
    }
   ],
   "source": [
    "pred_dict.keys()"
   ]
  }
 ],
 "metadata": {
  "kernelspec": {
   "display_name": "Python 3",
   "language": "python",
   "name": "python3"
  },
  "language_info": {
   "codemirror_mode": {
    "name": "ipython",
    "version": 3
   },
   "file_extension": ".py",
   "mimetype": "text/x-python",
   "name": "python",
   "nbconvert_exporter": "python",
   "pygments_lexer": "ipython3",
   "version": "3.6.8"
  }
 },
 "nbformat": 4,
 "nbformat_minor": 4
}
